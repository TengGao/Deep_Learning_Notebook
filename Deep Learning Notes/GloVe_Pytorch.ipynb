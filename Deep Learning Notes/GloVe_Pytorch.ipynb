{
 "cells": [
  {
   "cell_type": "markdown",
   "metadata": {},
   "source": [
    "# GloVe in Pytorch\n",
    "The following notebook comes from this [blog post](https://nlpython.com/implementing-glove-model-with-pytorch/). "
   ]
  },
  {
   "cell_type": "code",
   "execution_count": null,
   "metadata": {},
   "outputs": [],
   "source": [
    "from collections import Counter, defaultdict\n",
    "import numpy as np\n",
    "import matplotlib.pyplot as plt\n",
    "import torch\n",
    "import torch.nn as nn\n",
    "import torch.optim as optim\n",
    "import torch.nn.functional as F\n",
    "from sklearn.manifold import TSNE"
   ]
  },
  {
   "cell_type": "code",
   "execution_count": null,
   "metadata": {},
   "outputs": [],
   "source": [
    "class GloveDataset:\n",
    "    \n",
    "    def __init__(self, text, n_words=200000, window_size=5):\n",
    "        self._window_size = window_size\n",
    "        self._tokens = text.split(\" \")[:n_words]\n",
    "        word_counter = Counter()\n",
    "        word_counter.update(self._tokens)\n",
    "        self._word2id = {w:i for i, (w,_) in enumerate(word_counter.most_common())}\n",
    "        self._id2word = {i:w for w, i in self._word2id.items()}\n",
    "        self._vocab_len = len(self._word2id)\n",
    "        \n",
    "        self._id_tokens = [self._word2id[w] for w in self._tokens]\n",
    "        \n",
    "        self._create_coocurrence_matrix()\n",
    "        \n",
    "        print(\"# of words: {}\".format(len(self._tokens)))\n",
    "        print(\"Vocabulary length: {}\".format(self._vocab_len))\n",
    "        \n",
    "    def _create_coocurrence_matrix(self):\n",
    "        cooc_mat = defaultdict(Counter)\n",
    "        for i, w in enumerate(self._id_tokens):\n",
    "            start_i = max(i - self._window_size, 0)\n",
    "            end_i = min(i + self._window_size + 1, len(self._id_tokens))\n",
    "            for j in range(start_i, end_i):\n",
    "                if i != j:\n",
    "                    c = self._id_tokens[j]\n",
    "                    cooc_mat[w][c] += 1 / abs(j-i)\n",
    "                    \n",
    "        self._i_idx = list()\n",
    "        self._j_idx = list()\n",
    "        self._xij = list()\n",
    "        \n",
    "        #Create indexes and x values tensors\n",
    "        for w, cnt in cooc_mat.items():\n",
    "            for c, v in cnt.items():\n",
    "                self._i_idx.append(w)\n",
    "                self._j_idx.append(c)\n",
    "                self._xij.append(v)\n",
    "                \n",
    "        self._i_idx = torch.LongTensor(self._i_idx).cuda()\n",
    "        self._j_idx = torch.LongTensor(self._j_idx).cuda()\n",
    "        self._xij = torch.FloatTensor(self._xij).cuda()\n",
    "    \n",
    "    \n",
    "    def get_batches(self, batch_size):\n",
    "        #Generate random idx\n",
    "        rand_ids = torch.LongTensor(np.random.choice(len(self._xij), len(self._xij), replace=False))\n",
    "        \n",
    "        for p in range(0, len(rand_ids), batch_size):\n",
    "            batch_ids = rand_ids[p:p+batch_size]\n",
    "            yield self._xij[batch_ids], self._i_idx[batch_ids], self._j_idx[batch_ids]\n",
    "dataset = GloveDataset(open(\"text8\").read(), 10000000)"
   ]
  },
  {
   "cell_type": "code",
   "execution_count": null,
   "metadata": {},
   "outputs": [],
   "source": [
    "EMBED_DIM = 300\n",
    "class GloveModel(nn.Module):\n",
    "    def __init__(self, num_embeddings, embedding_dim):\n",
    "        super(GloveModel, self).__init__()\n",
    "        self.wi = nn.Embedding(num_embeddings, embedding_dim)\n",
    "        self.wj = nn.Embedding(num_embeddings, embedding_dim)\n",
    "        self.bi = nn.Embedding(num_embeddings, 1)\n",
    "        self.bj = nn.Embedding(num_embeddings, 1)\n",
    "        \n",
    "        self.wi.weight.data.uniform_(-1, 1)\n",
    "        self.wj.weight.data.uniform_(-1, 1)\n",
    "        self.bi.weight.data.zero_()\n",
    "        self.bj.weight.data.zero_()\n",
    "        \n",
    "    def forward(self, i_indices, j_indices):\n",
    "        w_i = self.wi(i_indices)\n",
    "        w_j = self.wj(j_indices)\n",
    "        b_i = self.bi(i_indices).squeeze()\n",
    "        b_j = self.bj(j_indices).squeeze()\n",
    "        \n",
    "        x = torch.sum(w_i * w_j, dim=1) + b_i + b_j\n",
    "        \n",
    "        return x\n",
    "glove = GloveModel(dataset._vocab_len, EMBED_DIM)\n",
    "glove.cuda()"
   ]
  },
  {
   "cell_type": "code",
   "execution_count": null,
   "metadata": {},
   "outputs": [],
   "source": [
    "def weight_func(x, x_max, alpha):\n",
    "    wx = (x/x_max)**alpha\n",
    "    wx = torch.min(wx, torch.ones_like(wx))\n",
    "    return wx.cuda()  "
   ]
  },
  {
   "cell_type": "code",
   "execution_count": null,
   "metadata": {},
   "outputs": [],
   "source": [
    "def wmse_loss(weights, inputs, targets):\n",
    "    loss = weights * F.mse_loss(inputs, targets, reduction='none')\n",
    "    return torch.mean(loss).cuda()"
   ]
  },
  {
   "cell_type": "code",
   "execution_count": null,
   "metadata": {},
   "outputs": [],
   "source": [
    "optimizer = optim.Adagrad(glove.parameters(), lr=0.05)"
   ]
  },
  {
   "cell_type": "code",
   "execution_count": null,
   "metadata": {},
   "outputs": [],
   "source": [
    "N_EPOCHS = 100\n",
    "BATCH_SIZE = 2048\n",
    "X_MAX = 100\n",
    "ALPHA = 0.75\n",
    "n_batches = int(len(dataset._xij) / BATCH_SIZE)\n",
    "loss_values = list()\n",
    "for e in range(1, N_EPOCHS+1):\n",
    "    batch_i = 0\n",
    "    \n",
    "    for x_ij, i_idx, j_idx in dataset.get_batches(BATCH_SIZE):\n",
    "        \n",
    "        batch_i += 1\n",
    "        \n",
    "        optimizer.zero_grad()\n",
    "        \n",
    "        outputs = glove(i_idx, j_idx)\n",
    "        weights_x = weight_func(x_ij, X_MAX, ALPHA)\n",
    "        loss = wmse_loss(weights_x, outputs, torch.log(x_ij))\n",
    "        \n",
    "        loss.backward()\n",
    "        \n",
    "        optimizer.step()\n",
    "        \n",
    "        loss_values.append(loss.item())\n",
    "        \n",
    "        if batch_i % 100 == 0:\n",
    "            print(\"Epoch: {}/{} \\t Batch: {}/{} \\t Loss: {}\".format(e, N_EPOCHS, batch_i, n_batches, np.mean(loss_values[-20:])))  \n",
    "    \n",
    "    print(\"Saving model...\")\n",
    "    torch.save(glove.state_dict(), \"text8.pt\")"
   ]
  },
  {
   "cell_type": "code",
   "execution_count": null,
   "metadata": {},
   "outputs": [],
   "source": [
    "plt.plot(loss_values)"
   ]
  },
  {
   "cell_type": "code",
   "execution_count": null,
   "metadata": {},
   "outputs": [],
   "source": [
    "emb_i = glove.wi.weight.cpu().data.numpy()\n",
    "emb_j = glove.wj.weight.cpu().data.numpy()\n",
    "emb = emb_i + emb_j\n",
    "top_k = 300\n",
    "tsne = TSNE(metric='cosine', random_state=123)\n",
    "embed_tsne = tsne.fit_transform(emb[:top_k, :])\n",
    "fig, ax = plt.subplots(figsize=(14, 14))\n",
    "for idx in range(top_k):\n",
    "    plt.scatter(*embed_tsne[idx, :], color='steelblue')\n",
    "    plt.annotate(dataset._id2word[idx], (embed_tsne[idx, 0], embed_tsne[idx, 1]), alpha=0.7)"
   ]
  }
 ],
 "metadata": {
  "hide_input": false,
  "kernelspec": {
   "display_name": "Python 3",
   "language": "python",
   "name": "python3"
  },
  "language_info": {
   "codemirror_mode": {
    "name": "ipython",
    "version": 3
   },
   "file_extension": ".py",
   "mimetype": "text/x-python",
   "name": "python",
   "nbconvert_exporter": "python",
   "pygments_lexer": "ipython3",
   "version": "3.7.3"
  },
  "latex_envs": {
   "LaTeX_envs_menu_present": true,
   "autoclose": false,
   "autocomplete": true,
   "bibliofile": "biblio.bib",
   "cite_by": "apalike",
   "current_citInitial": 1,
   "eqLabelWithNumbers": true,
   "eqNumInitial": 1,
   "hotkeys": {
    "equation": "Ctrl-E",
    "itemize": "Ctrl-I"
   },
   "labels_anchors": false,
   "latex_user_defs": false,
   "report_style_numbering": false,
   "user_envs_cfg": false
  }
 },
 "nbformat": 4,
 "nbformat_minor": 2
}
